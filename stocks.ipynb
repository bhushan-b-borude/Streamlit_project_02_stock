{
 "cells": [
  {
   "cell_type": "code",
   "execution_count": 1,
   "id": "e957e0bf",
   "metadata": {},
   "outputs": [],
   "source": [
    "# Imports\n",
    "\n",
    "import yfinance as yf\n",
    "import streamlit as st\n",
    "import pandas as pd\n",
    "import numpy as np"
   ]
  },
  {
   "cell_type": "code",
   "execution_count": 2,
   "id": "563cf108",
   "metadata": {},
   "outputs": [
    {
     "name": "stderr",
     "output_type": "stream",
     "text": [
      "2023-01-04 12:43:00.842 \n",
      "  \u001b[33m\u001b[1mWarning:\u001b[0m to view this Streamlit app on a browser, run it with the following\n",
      "  command:\n",
      "\n",
      "    streamlit run C:\\Users\\Asus\\AppData\\Local\\Programs\\Python\\Python310\\lib\\site-packages\\ipykernel_launcher.py [ARGUMENTS]\n"
     ]
    },
    {
     "data": {
      "text/plain": [
       "DeltaGenerator(_root_container=0, _provided_cursor=None, _parent=None, _block_type=None, _form_data=None)"
      ]
     },
     "execution_count": 2,
     "metadata": {},
     "output_type": "execute_result"
    }
   ],
   "source": [
    "# Markdown format change\n",
    "\n",
    "st.markdown('''\n",
    "<style>\n",
    ".main{\n",
    "background-color: #F7F7FF;\n",
    "}\n",
    "<style>\n",
    "''',\n",
    "unsafe_allow_html= True)"
   ]
  },
  {
   "cell_type": "code",
   "execution_count": 3,
   "id": "b0c518d1",
   "metadata": {},
   "outputs": [],
   "source": [
    "df = pd.read_csv('ticker_list.csv')"
   ]
  },
  {
   "cell_type": "code",
   "execution_count": 4,
   "id": "c8784183",
   "metadata": {},
   "outputs": [],
   "source": [
    "ticker_dict = df.set_index('Name').to_dict()['Ticker']"
   ]
  },
  {
   "cell_type": "code",
   "execution_count": 5,
   "id": "4addac99",
   "metadata": {},
   "outputs": [],
   "source": [
    "# St. text\n",
    "\n",
    "st.write('''\n",
    "# Stock Price App\n",
    "''')"
   ]
  },
  {
   "cell_type": "code",
   "execution_count": 6,
   "id": "972cd079",
   "metadata": {},
   "outputs": [
    {
     "name": "stderr",
     "output_type": "stream",
     "text": [
      "C:\\Users\\Asus\\AppData\\Local\\Temp\\ipykernel_5928\\3067937657.py:4: FutureWarning: The pandas.datetime class is deprecated and will be removed from pandas in a future version. Import from datetime module instead.\n",
      "  start_date = st.sidebar.date_input('Start Date', pd.datetime(2010,5,31))\n",
      "C:\\Users\\Asus\\AppData\\Local\\Temp\\ipykernel_5928\\3067937657.py:5: FutureWarning: The pandas.datetime class is deprecated and will be removed from pandas in a future version. Import from datetime module instead.\n",
      "  end_date = st.sidebar.date_input('End Date', pd.datetime(2020,5,31))\n"
     ]
    }
   ],
   "source": [
    "# St. user input\n",
    "st.sidebar.subheader('User Inputs')\n",
    "company = st.sidebar.selectbox('Select a Company', list(ticker_dict.keys()))\n",
    "start_date = st.sidebar.date_input('Start Date', pd.datetime(2015,5,31))\n",
    "end_date = st.sidebar.date_input('End Date', pd.datetime(2020,5,31))"
   ]
  },
  {
   "cell_type": "code",
   "execution_count": 7,
   "id": "3a49f1ae",
   "metadata": {},
   "outputs": [],
   "source": [
    "# St. text\n",
    "\n",
    "st.write('Company Name :', company)\n",
    "st.write('Start Date :', start_date)\n",
    "st.write('End Date :', end_date)\n",
    "\n"
   ]
  },
  {
   "cell_type": "code",
   "execution_count": 8,
   "id": "7aabe25a",
   "metadata": {},
   "outputs": [],
   "source": [
    "# Get data from yfinance\n",
    "ticker_symbol = ticker_dict[company]\n",
    "ticker_data = yf.Ticker(ticker_symbol)\n",
    "tickerdf = ticker_data.history(period='1d', start=start_date, end=end_date)"
   ]
  },
  {
   "cell_type": "code",
   "execution_count": 9,
   "id": "8f13eade",
   "metadata": {},
   "outputs": [],
   "source": [
    "tickerdf1 = tickerdf.reset_index()"
   ]
  },
  {
   "cell_type": "code",
   "execution_count": 10,
   "id": "b61364d0",
   "metadata": {},
   "outputs": [],
   "source": [
    "percent_change = round((tickerdf1.iloc[(len(tickerdf1) - 1), 4] - tickerdf1.iloc[0, 4]) / tickerdf1.iloc[(len(tickerdf1) - 1), 4] * 100, 2)"
   ]
  },
  {
   "cell_type": "code",
   "execution_count": 11,
   "id": "bf6df515",
   "metadata": {},
   "outputs": [
    {
     "data": {
      "text/plain": [
       "DeltaGenerator(_root_container=0, _provided_cursor=None, _parent=None, _block_type=None, _form_data=None)"
      ]
     },
     "execution_count": 11,
     "metadata": {},
     "output_type": "execute_result"
    }
   ],
   "source": [
    "# St. text and charts\n",
    "\n",
    "st.write('Change in Stock Price =', percent_change, '%')\n",
    "\n",
    "st.header('Closing Price')\n",
    "st.line_chart(tickerdf.Close)\n",
    "st.header('Volume')\n",
    "st.line_chart(tickerdf.Volume)"
   ]
  },
  {
   "cell_type": "code",
   "execution_count": null,
   "id": "75c49b37",
   "metadata": {},
   "outputs": [],
   "source": []
  },
  {
   "cell_type": "code",
   "execution_count": 14,
   "id": "7a7ee344",
   "metadata": {},
   "outputs": [
    {
     "name": "stdout",
     "output_type": "stream",
     "text": [
      "Note: you may need to restart the kernel to use updated packages.\n"
     ]
    }
   ],
   "source": [
    "pip freeze > 01_Google_Ticker_requirements.txt"
   ]
  },
  {
   "cell_type": "code",
   "execution_count": null,
   "id": "8563aea3",
   "metadata": {},
   "outputs": [],
   "source": []
  }
 ],
 "metadata": {
  "kernelspec": {
   "display_name": "Python 3 (ipykernel)",
   "language": "python",
   "name": "python3"
  },
  "language_info": {
   "codemirror_mode": {
    "name": "ipython",
    "version": 3
   },
   "file_extension": ".py",
   "mimetype": "text/x-python",
   "name": "python",
   "nbconvert_exporter": "python",
   "pygments_lexer": "ipython3",
   "version": "3.10.8"
  }
 },
 "nbformat": 4,
 "nbformat_minor": 5
}
